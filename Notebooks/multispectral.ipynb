{
 "cells": [
  {
   "cell_type": "code",
   "execution_count": 1,
   "metadata": {},
   "outputs": [],
   "source": [
    "import os\n",
    "from glob import glob\n",
    "\n",
    "import earthpy as et\n",
    "import earthpy.earthexplorer as etee\n",
    "import geopandas as gpd\n",
    "import geoviews as gv\n",
    "import holoviews as hv\n",
    "import numpy as np\n",
    "import pandas as pd\n",
    "import rioxarray as rxr\n",
    "import rioxarray.merge as rxrmerge\n",
    "import shutil\n",
    "\n",
    "data_dir = os.path.join(et.io.HOME, et.io.DATA_NAME)\n",
    "chi_dir = os.path.join(data_dir, 'chicago-neigborhoods')\n",
    "ndvi_dir = os.path.join(data_dir, 'chicago-green-space','processed')\n",
    "\n",
    "for a_dir in [chi_dir, ndvi_dir]:\n",
    "    if not os.path.exists(chi_dir):\n",
    "        os.makedirs(chi_dir)"
   ]
  },
  {
   "cell_type": "code",
   "execution_count": 10,
   "metadata": {},
   "outputs": [
    {
     "data": {
      "text/html": [
       "<div>\n",
       "<style scoped>\n",
       "    .dataframe tbody tr th:only-of-type {\n",
       "        vertical-align: middle;\n",
       "    }\n",
       "\n",
       "    .dataframe tbody tr th {\n",
       "        vertical-align: top;\n",
       "    }\n",
       "\n",
       "    .dataframe thead th {\n",
       "        text-align: right;\n",
       "    }\n",
       "</style>\n",
       "<table border=\"1\" class=\"dataframe\">\n",
       "  <thead>\n",
       "    <tr style=\"text-align: right;\">\n",
       "      <th></th>\n",
       "      <th>geometry</th>\n",
       "    </tr>\n",
       "    <tr>\n",
       "      <th>name</th>\n",
       "      <th></th>\n",
       "    </tr>\n",
       "  </thead>\n",
       "  <tbody>\n",
       "    <tr>\n",
       "      <th>core</th>\n",
       "      <td>POLYGON ((5766714.681 2312729.400, 5766335.978...</td>\n",
       "    </tr>\n",
       "    <tr>\n",
       "      <th>hill</th>\n",
       "      <td>POLYGON ((5777299.703 2315667.808, 5777280.201...</td>\n",
       "    </tr>\n",
       "  </tbody>\n",
       "</table>\n",
       "</div>"
      ],
      "text/plain": [
       "                                               geometry\n",
       "name                                                   \n",
       "core  POLYGON ((5766714.681 2312729.400, 5766335.978...\n",
       "hill  POLYGON ((5777299.703 2315667.808, 5777280.201..."
      ]
     },
     "execution_count": 10,
     "metadata": {},
     "output_type": "execute_result"
    }
   ],
   "source": [
    "chi_url = ('https://afd.calpoly.edu/facilities/campus-maps/gis-data/files/Parcels.zip')\n",
    "chi_url\n",
    "chi_gdf = gpd.read_file(chi_url)\n",
    "names = ['hill', 'Name2', 'Name3','name4','name5','name6','core','name8','name9','name10','name11','name12']\n",
    "chi_gdf['name'] = names\n",
    "chi_gdf\n",
    "\n",
    "neigh_gdf = (chi_gdf.set_index('name').loc[['core','hill']])\n",
    "neigh_gdf"
   ]
  },
  {
   "cell_type": "code",
   "execution_count": 11,
   "metadata": {},
   "outputs": [
    {
     "name": "stdout",
     "output_type": "stream",
     "text": [
      "NDVI stats file does not exist...\n",
      "\n",
      "Neighborhood name: core\n",
      "Lower left x-coordinate:5763671.66970552\n",
      "Login Successful.\n",
      "Searching datasets...\n"
     ]
    },
    {
     "ename": "HTTPError",
     "evalue": "403 Client Error: Forbidden for url: https://m2m.cr.usgs.gov/api/api/json/stable/dataset-search",
     "output_type": "error",
     "traceback": [
      "\u001b[0;31m---------------------------------------------------------------------------\u001b[0m",
      "\u001b[0;31mHTTPError\u001b[0m                                 Traceback (most recent call last)",
      "\u001b[1;32m/workspaces/anniemeeder.github.io/Notebooks/multispectral.ipynb Cell 3\u001b[0m line \u001b[0;36m5\n\u001b[1;32m     <a href='vscode-notebook-cell://codespaces%2Bfantastic-couscous-5gqvpvvwjg5wf7rvg/workspaces/anniemeeder.github.io/Notebooks/multispectral.ipynb#W2sdnNjb2RlLXJlbW90ZQ%3D%3D?line=50'>51</a>\u001b[0m   \u001b[39mprint\u001b[39m(\u001b[39m'\u001b[39m\u001b[39mNeighborhood stats have been calculated. skipping\u001b[39m\u001b[39m'\u001b[39m)\n\u001b[1;32m     <a href='vscode-notebook-cell://codespaces%2Bfantastic-couscous-5gqvpvvwjg5wf7rvg/workspaces/anniemeeder.github.io/Notebooks/multispectral.ipynb#W2sdnNjb2RlLXJlbW90ZQ%3D%3D?line=51'>52</a>\u001b[0m   \u001b[39mcontinue\u001b[39;00m\n\u001b[0;32m---> <a href='vscode-notebook-cell://codespaces%2Bfantastic-couscous-5gqvpvvwjg5wf7rvg/workspaces/anniemeeder.github.io/Notebooks/multispectral.ipynb#W2sdnNjb2RlLXJlbW90ZQ%3D%3D?line=53'>54</a>\u001b[0m downloader \u001b[39m=\u001b[39m download_neighborhood_data(\n\u001b[1;32m     <a href='vscode-notebook-cell://codespaces%2Bfantastic-couscous-5gqvpvvwjg5wf7rvg/workspaces/anniemeeder.github.io/Notebooks/multispectral.ipynb#W2sdnNjb2RlLXJlbW90ZQ%3D%3D?line=54'>55</a>\u001b[0m  neighborhood_name, details\u001b[39m.\u001b[39;49mgeometry, \u001b[39m'\u001b[39;49m\u001b[39m2021-01-01\u001b[39;49m\u001b[39m'\u001b[39;49m,\u001b[39m'\u001b[39;49m\u001b[39m2021-12-31\u001b[39;49m\u001b[39m'\u001b[39;49m)\n",
      "\u001b[1;32m/workspaces/anniemeeder.github.io/Notebooks/multispectral.ipynb Cell 3\u001b[0m line \u001b[0;36m3\n\u001b[1;32m     <a href='vscode-notebook-cell://codespaces%2Bfantastic-couscous-5gqvpvvwjg5wf7rvg/workspaces/anniemeeder.github.io/Notebooks/multispectral.ipynb#W2sdnNjb2RlLXJlbW90ZQ%3D%3D?line=28'>29</a>\u001b[0m \u001b[39mprint\u001b[39m(\u001b[39mf\u001b[39m\u001b[39m'\u001b[39m\u001b[39mLower left x-coordinate:\u001b[39m\u001b[39m{\u001b[39;00mbbox\u001b[39m.\u001b[39mllx\u001b[39m}\u001b[39;00m\u001b[39m'\u001b[39m)\n\u001b[1;32m     <a href='vscode-notebook-cell://codespaces%2Bfantastic-couscous-5gqvpvvwjg5wf7rvg/workspaces/anniemeeder.github.io/Notebooks/multispectral.ipynb#W2sdnNjb2RlLXJlbW90ZQ%3D%3D?line=29'>30</a>\u001b[0m naip_downloader \u001b[39m=\u001b[39m etee\u001b[39m.\u001b[39mEarthExplorerDownloader(\n\u001b[1;32m     <a href='vscode-notebook-cell://codespaces%2Bfantastic-couscous-5gqvpvvwjg5wf7rvg/workspaces/anniemeeder.github.io/Notebooks/multispectral.ipynb#W2sdnNjb2RlLXJlbW90ZQ%3D%3D?line=30'>31</a>\u001b[0m     dataset\u001b[39m=\u001b[39m\u001b[39m\"\u001b[39m\u001b[39mNAIP\u001b[39m\u001b[39m\"\u001b[39m, \n\u001b[1;32m     <a href='vscode-notebook-cell://codespaces%2Bfantastic-couscous-5gqvpvvwjg5wf7rvg/workspaces/anniemeeder.github.io/Notebooks/multispectral.ipynb#W2sdnNjb2RlLXJlbW90ZQ%3D%3D?line=31'>32</a>\u001b[0m     label\u001b[39m=\u001b[39mname\u001b[39m.\u001b[39mlower()\u001b[39m.\u001b[39mreplace(\u001b[39m'\u001b[39m\u001b[39m \u001b[39m\u001b[39m'\u001b[39m,\u001b[39m'\u001b[39m\u001b[39m-\u001b[39m\u001b[39m'\u001b[39m), \n\u001b[0;32m   (...)\u001b[0m\n\u001b[1;32m     <a href='vscode-notebook-cell://codespaces%2Bfantastic-couscous-5gqvpvvwjg5wf7rvg/workspaces/anniemeeder.github.io/Notebooks/multispectral.ipynb#W2sdnNjb2RlLXJlbW90ZQ%3D%3D?line=34'>35</a>\u001b[0m     end\u001b[39m=\u001b[39mend,\n\u001b[1;32m     <a href='vscode-notebook-cell://codespaces%2Bfantastic-couscous-5gqvpvvwjg5wf7rvg/workspaces/anniemeeder.github.io/Notebooks/multispectral.ipynb#W2sdnNjb2RlLXJlbW90ZQ%3D%3D?line=35'>36</a>\u001b[0m     store_credential\u001b[39m=\u001b[39m\u001b[39mTrue\u001b[39;00m)\n\u001b[0;32m---> <a href='vscode-notebook-cell://codespaces%2Bfantastic-couscous-5gqvpvvwjg5wf7rvg/workspaces/anniemeeder.github.io/Notebooks/multispectral.ipynb#W2sdnNjb2RlLXJlbW90ZQ%3D%3D?line=36'>37</a>\u001b[0m naip_downloader\u001b[39m.\u001b[39;49msubmit_download_request()\n\u001b[1;32m     <a href='vscode-notebook-cell://codespaces%2Bfantastic-couscous-5gqvpvvwjg5wf7rvg/workspaces/anniemeeder.github.io/Notebooks/multispectral.ipynb#W2sdnNjb2RlLXJlbW90ZQ%3D%3D?line=37'>38</a>\u001b[0m naip_downloader\u001b[39m.\u001b[39mdownload(override\u001b[39m=\u001b[39m\u001b[39mFalse\u001b[39;00m)\n\u001b[1;32m     <a href='vscode-notebook-cell://codespaces%2Bfantastic-couscous-5gqvpvvwjg5wf7rvg/workspaces/anniemeeder.github.io/Notebooks/multispectral.ipynb#W2sdnNjb2RlLXJlbW90ZQ%3D%3D?line=38'>39</a>\u001b[0m \u001b[39mreturn\u001b[39;00m naip_downloader\n",
      "File \u001b[0;32m/opt/conda/lib/python3.10/site-packages/earthpy/earthexplorer.py:222\u001b[0m, in \u001b[0;36mEarthExplorerDownloader.submit_download_request\u001b[0;34m(self)\u001b[0m\n\u001b[1;32m    221\u001b[0m \u001b[39mdef\u001b[39;00m \u001b[39msubmit_download_request\u001b[39m(\u001b[39mself\u001b[39m):\n\u001b[0;32m--> 222\u001b[0m     product_info \u001b[39m=\u001b[39m \u001b[39mself\u001b[39;49m\u001b[39m.\u001b[39;49mfind_available_product_info()\n\u001b[1;32m    223\u001b[0m     \u001b[39m# Did we find products?\u001b[39;00m\n\u001b[1;32m    224\u001b[0m     \u001b[39mif\u001b[39;00m product_info:\n\u001b[1;32m    225\u001b[0m         \u001b[39m# Request downloads\u001b[39;00m\n",
      "File \u001b[0;32m/opt/conda/lib/python3.10/site-packages/earthpy/earthexplorer.py:198\u001b[0m, in \u001b[0;36mEarthExplorerDownloader.find_available_product_info\u001b[0;34m(self)\u001b[0m\n\u001b[1;32m    197\u001b[0m \u001b[39mdef\u001b[39;00m \u001b[39mfind_available_product_info\u001b[39m(\u001b[39mself\u001b[39m):\n\u001b[0;32m--> 198\u001b[0m     scenes \u001b[39m=\u001b[39m \u001b[39mself\u001b[39;49m\u001b[39m.\u001b[39;49mfind_scene_ids()\n\u001b[1;32m    199\u001b[0m     params \u001b[39m=\u001b[39m {\n\u001b[1;32m    200\u001b[0m         \u001b[39m'\u001b[39m\u001b[39mdatasetName\u001b[39m\u001b[39m'\u001b[39m: \u001b[39mself\u001b[39m\u001b[39m.\u001b[39mdataset_alias, \n\u001b[1;32m    201\u001b[0m         \u001b[39m'\u001b[39m\u001b[39mentityIds\u001b[39m\u001b[39m'\u001b[39m: [scene[\u001b[39m'\u001b[39m\u001b[39mentityId\u001b[39m\u001b[39m'\u001b[39m] \u001b[39mfor\u001b[39;00m scene \u001b[39min\u001b[39;00m scenes[\u001b[39m'\u001b[39m\u001b[39mresults\u001b[39m\u001b[39m'\u001b[39m]]}\n\u001b[1;32m    202\u001b[0m     products \u001b[39m=\u001b[39m \u001b[39mself\u001b[39m\u001b[39m.\u001b[39mpost(\u001b[39m\"\u001b[39m\u001b[39mdownload-options\u001b[39m\u001b[39m\"\u001b[39m, params)\n",
      "File \u001b[0;32m/opt/conda/lib/python3.10/site-packages/earthpy/earthexplorer.py:185\u001b[0m, in \u001b[0;36mEarthExplorerDownloader.find_scene_ids\u001b[0;34m(self)\u001b[0m\n\u001b[1;32m    183\u001b[0m \u001b[39mdef\u001b[39;00m \u001b[39mfind_scene_ids\u001b[39m(\u001b[39mself\u001b[39m):\n\u001b[1;32m    184\u001b[0m     params \u001b[39m=\u001b[39m {\n\u001b[0;32m--> 185\u001b[0m         \u001b[39m'\u001b[39m\u001b[39mdatasetName\u001b[39m\u001b[39m'\u001b[39m: \u001b[39mself\u001b[39;49m\u001b[39m.\u001b[39;49mdataset_alias,\n\u001b[1;32m    186\u001b[0m         \u001b[39m'\u001b[39m\u001b[39mstartingNumber\u001b[39m\u001b[39m'\u001b[39m: \u001b[39m1\u001b[39m,\n\u001b[1;32m    187\u001b[0m         \n\u001b[1;32m    188\u001b[0m         \u001b[39m'\u001b[39m\u001b[39msceneFilter\u001b[39m\u001b[39m'\u001b[39m: {\n\u001b[1;32m    189\u001b[0m             \u001b[39m'\u001b[39m\u001b[39mspatialFilter\u001b[39m\u001b[39m'\u001b[39m: \u001b[39mself\u001b[39m\u001b[39m.\u001b[39mbbox\u001b[39m.\u001b[39mspatial_filter,\n\u001b[1;32m    190\u001b[0m             \u001b[39m'\u001b[39m\u001b[39macquisitionFilter\u001b[39m\u001b[39m'\u001b[39m: \u001b[39mself\u001b[39m\u001b[39m.\u001b[39macquisition_filter}}\n\u001b[1;32m    192\u001b[0m     \u001b[39mprint\u001b[39m(\u001b[39m\"\u001b[39m\u001b[39mSearching scenes...\u001b[39m\u001b[39m\"\u001b[39m)\n\u001b[1;32m    193\u001b[0m     scenes \u001b[39m=\u001b[39m \u001b[39mself\u001b[39m\u001b[39m.\u001b[39mpost(\u001b[39m\"\u001b[39m\u001b[39mscene-search\u001b[39m\u001b[39m\"\u001b[39m, params)\n",
      "File \u001b[0;32m/opt/conda/lib/python3.10/site-packages/earthpy/earthexplorer.py:172\u001b[0m, in \u001b[0;36mEarthExplorerDownloader.dataset_alias\u001b[0;34m(self)\u001b[0m\n\u001b[1;32m    167\u001b[0m \u001b[39mprint\u001b[39m(\u001b[39m\"\u001b[39m\u001b[39mSearching datasets...\u001b[39m\u001b[39m\"\u001b[39m)\n\u001b[1;32m    168\u001b[0m params \u001b[39m=\u001b[39m {\n\u001b[1;32m    169\u001b[0m     \u001b[39m'\u001b[39m\u001b[39mdatasetName\u001b[39m\u001b[39m'\u001b[39m: \u001b[39mself\u001b[39m\u001b[39m.\u001b[39mdataset,\n\u001b[1;32m    170\u001b[0m     \u001b[39m'\u001b[39m\u001b[39mspatialFilter\u001b[39m\u001b[39m'\u001b[39m: \u001b[39mself\u001b[39m\u001b[39m.\u001b[39mbbox\u001b[39m.\u001b[39mspatial_filter,\n\u001b[1;32m    171\u001b[0m     \u001b[39m'\u001b[39m\u001b[39mtemporalFilter\u001b[39m\u001b[39m'\u001b[39m: \u001b[39mself\u001b[39m\u001b[39m.\u001b[39mtemporal_filter}\n\u001b[0;32m--> 172\u001b[0m datasets \u001b[39m=\u001b[39m \u001b[39mself\u001b[39;49m\u001b[39m.\u001b[39;49mpost(\u001b[39m\"\u001b[39;49m\u001b[39mdataset-search\u001b[39;49m\u001b[39m\"\u001b[39;49m, params)\n\u001b[1;32m    174\u001b[0m \u001b[39m# Get a single dataset alias\u001b[39;00m\n\u001b[1;32m    175\u001b[0m \u001b[39mif\u001b[39;00m \u001b[39mlen\u001b[39m(datasets) \u001b[39m>\u001b[39m \u001b[39m1\u001b[39m:\n",
      "File \u001b[0;32m/opt/conda/lib/python3.10/site-packages/earthpy/earthexplorer.py:159\u001b[0m, in \u001b[0;36mEarthExplorerDownloader.post\u001b[0;34m(self, endpoint, data)\u001b[0m\n\u001b[1;32m    156\u001b[0m response \u001b[39m=\u001b[39m requests\u001b[39m.\u001b[39mpost(url, json\u001b[39m.\u001b[39mdumps(data), headers\u001b[39m=\u001b[39m\u001b[39mself\u001b[39m\u001b[39m.\u001b[39mheaders)\n\u001b[1;32m    158\u001b[0m \u001b[39m# Raise any HTTP Errors\u001b[39;00m\n\u001b[0;32m--> 159\u001b[0m response\u001b[39m.\u001b[39;49mraise_for_status()\n\u001b[1;32m    161\u001b[0m \u001b[39m# Return data\u001b[39;00m\n\u001b[1;32m    162\u001b[0m \u001b[39mreturn\u001b[39;00m response\u001b[39m.\u001b[39mjson()[\u001b[39m'\u001b[39m\u001b[39mdata\u001b[39m\u001b[39m'\u001b[39m]\n",
      "File \u001b[0;32m/opt/conda/lib/python3.10/site-packages/requests/models.py:1021\u001b[0m, in \u001b[0;36mResponse.raise_for_status\u001b[0;34m(self)\u001b[0m\n\u001b[1;32m   1016\u001b[0m     http_error_msg \u001b[39m=\u001b[39m (\n\u001b[1;32m   1017\u001b[0m         \u001b[39mf\u001b[39m\u001b[39m\"\u001b[39m\u001b[39m{\u001b[39;00m\u001b[39mself\u001b[39m\u001b[39m.\u001b[39mstatus_code\u001b[39m}\u001b[39;00m\u001b[39m Server Error: \u001b[39m\u001b[39m{\u001b[39;00mreason\u001b[39m}\u001b[39;00m\u001b[39m for url: \u001b[39m\u001b[39m{\u001b[39;00m\u001b[39mself\u001b[39m\u001b[39m.\u001b[39murl\u001b[39m}\u001b[39;00m\u001b[39m\"\u001b[39m\n\u001b[1;32m   1018\u001b[0m     )\n\u001b[1;32m   1020\u001b[0m \u001b[39mif\u001b[39;00m http_error_msg:\n\u001b[0;32m-> 1021\u001b[0m     \u001b[39mraise\u001b[39;00m HTTPError(http_error_msg, response\u001b[39m=\u001b[39m\u001b[39mself\u001b[39m)\n",
      "\u001b[0;31mHTTPError\u001b[0m: 403 Client Error: Forbidden for url: https://m2m.cr.usgs.gov/api/api/json/stable/dataset-search"
     ]
    }
   ],
   "source": [
    "def download_neighborhood_data(name, geometry, start, end):\n",
    "    \"\"\"\n",
    "Download NAIP raster for a given geometry, start date, and end date\n",
    "    \n",
    "    Downloads data from the National Agricoltural Impagery Program (NAIP)\n",
    "    given a spatial and temporal extent.\n",
    "    National Agricultural Imagery Program (NAIP). (2023). \n",
    "    Multispectral Imagery. \n",
    "\n",
    "    Parameters\n",
    "    ==========\n",
    "    name : str\n",
    "      The name used to label the download\n",
    "    geometry : shapely.POLYGON\n",
    "      The geometry to derive the download extent from. \n",
    "      Must have a `.bounds` attribute.\n",
    "    start : str\n",
    "      The start date as 'YYYY-MM-DD'\n",
    "    end : str\n",
    "      The end date as 'YYYY-MM-DD'\n",
    "\n",
    "    Returns\n",
    "    =======\n",
    "    downloader : earthpy.earthexplorer.EarthExplorerDownloader\n",
    "      Object with information about the download, including the data directory.\n",
    "    \"\"\"\n",
    "    print(f'\\nNeighborhood name: {name}')\n",
    "    bbox = etee.BBox(*geometry.bounds)\n",
    "    print(f'Lower left x-coordinate:{bbox.llx}')\n",
    "    naip_downloader = etee.EarthExplorerDownloader(\n",
    "        dataset=\"NAIP\", \n",
    "        label=name.lower().replace(' ','-'), \n",
    "        bbox=bbox,\n",
    "        start=start, \n",
    "        end=end,\n",
    "        store_credential=True)\n",
    "    naip_downloader.submit_download_request()\n",
    "    naip_downloader.download(override=False)\n",
    "    return naip_downloader\n",
    "\n",
    "ndvi_stats_path = os.path.join(ndvi_dir, 'neighborhood-ndvi-stats.csv')\n",
    "if os.path.exists(ndvi_stats_path):\n",
    "  print('Reading in NDVI statistics file...')\n",
    "  ndvi_stats_df = pd.read_csv(ndvi_stats_path)\n",
    "else: \n",
    "   print('NDVI stats file does not exist...')\n",
    "   ndvi_stats_df = pd.DataFrame()\n",
    "\n",
    "for neighborhood_name, details in neigh_gdf.iterrows():\n",
    "  if neighborhood_name in ndvi_stats_df.index:   \n",
    "    print('Neighborhood stats have been calculated. skipping')\n",
    "    continue\n",
    "\n",
    "  downloader = download_neighborhood_data(\n",
    "   neighborhood_name, details.geometry, '2021-01-01','2021-12-31')"
   ]
  }
 ],
 "metadata": {
  "kernelspec": {
   "display_name": "base",
   "language": "python",
   "name": "python3"
  },
  "language_info": {
   "codemirror_mode": {
    "name": "ipython",
    "version": 3
   },
   "file_extension": ".py",
   "mimetype": "text/x-python",
   "name": "python",
   "nbconvert_exporter": "python",
   "pygments_lexer": "ipython3",
   "version": "3.10.11"
  }
 },
 "nbformat": 4,
 "nbformat_minor": 2
}
